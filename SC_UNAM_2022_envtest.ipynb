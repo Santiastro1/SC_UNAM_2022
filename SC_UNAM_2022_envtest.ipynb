{
 "cells": [
  {
   "cell_type": "markdown",
   "metadata": {},
   "source": [
    "# Testeando el ambiente conda SC2022\n",
    "S. Roca-Fàbrega\n",
    "\n",
    "Este jupiter notebook tiene como único proposito el de testear el ambiente conda SC2022 en vuestra computadora.\n",
    "\n",
    "La primera cosa que tienen que hacer es ir a la carpeta de instalación del ambiente conda (SC_UNAM_2022) y activar el ambiente:\n",
    "\n",
    "> conda activate SC2022\n",
    "\n",
    "Ahora intenten abrir el jupyter notebook en su navegador web favorito:\n",
    "\n",
    "> jupyter notebook\n",
    "\n",
    "Necesitaran descargar algunos archivos adicionales para testear las librerías de pyton.\n",
    "\n",
    "# YT\n",
    "\n",
    "In order to test \"yt\", you have data files from N-body simulations obtained using a large variety of numerical codes, available in the following webpage: https://yt-project.org/data/.\n",
    "\n",
    "Here we will usedata from ART and RAMSES numerical codes so we recommend you to download the following files and move them to the \"Athens_School_2022\" folder:\n",
    "\n",
    "http://yt-project.org/data/sizmbhloz-clref04SNth-rs9_a0.9011.tar.gz\n",
    "\n",
    "> mv ~/Downloads/sizmbhloz-clref04SNth-rs9_a0.9011.tar ~/Athens_School_2022/\n",
    "\n",
    "> cd ~/Athens_School_2022/\n",
    "\n",
    "> tar -zxvf sizmbhloz-clref04SNth-rs9_a0.9011.tar\n",
    "\n",
    "> rm sizmbhloz-clref04SNth-rs9_a0.9011.tar\n",
    "\n",
    "http://yt-project.org/data/output_00080.tar.gz\n",
    "\n",
    "> mv ~/Downloads/output_00080.tar ~/Athens_School_2022/\n",
    "\n",
    "> cd ~/Athens_School_2022/\n",
    "\n",
    "> tar -zxvf output_00080.tar\n",
    "\n",
    "> rm output_00080.tar\n",
    "\n",
    "\n",
    "# Pynbody\n",
    "\n",
    "Download and extract the following files to your Athens_School_2022 folder\n",
    "\n",
    "http://star.ucl.ac.uk/~app/testdata.tar.gz\n",
    "\n",
    "> mv ~/Downloads/testdata.tar ~/Athens_School_2022/\n",
    "\n",
    "> cd ~/Athens_School_2022/\n",
    "\n",
    "> tar -zxvf testdata.tar\n",
    "\n",
    "> rm testdata.tar\n",
    "\n",
    "Now open the \"Athens2022_envtest.ipynb\" and run each one of the cells in order to test the yt, pynbody and python3.7 libraries installation.\n",
    "\n",
    "If you succeed on running all cells in this notebook, you are now ready to work on the Athens2022 school hands-on sessions.\n",
    "\n",
    "If you have had problems on running any of the cells, please get in contact with sroca01 at ucm dot es, in order to have this problems solved before the school starts."
   ]
  },
  {
   "cell_type": "markdown",
   "metadata": {},
   "source": [
    "We will first test the \"yt\" installation:"
   ]
  },
  {
   "cell_type": "code",
   "execution_count": 1,
   "metadata": {},
   "outputs": [
    {
     "name": "stderr",
     "output_type": "stream",
     "text": [
      "yt : [INFO     ] 2019-12-30 09:03:59,419 Parameters: current_time              = 12042349585.44105 yr\n",
      "yt : [INFO     ] 2019-12-30 09:03:59,420 Parameters: domain_dimensions         = [128 128 128]\n",
      "yt : [INFO     ] 2019-12-30 09:03:59,420 Parameters: domain_left_edge          = [0. 0. 0.]\n",
      "yt : [INFO     ] 2019-12-30 09:03:59,421 Parameters: domain_right_edge         = [128. 128. 128.]\n",
      "yt : [INFO     ] 2019-12-30 09:03:59,422 Parameters: cosmological_simulation   = True\n",
      "yt : [INFO     ] 2019-12-30 09:03:59,422 Parameters: current_redshift          = 0.10980115776994159\n",
      "yt : [INFO     ] 2019-12-30 09:03:59,423 Parameters: omega_lambda              = 0.7\n",
      "yt : [INFO     ] 2019-12-30 09:03:59,424 Parameters: omega_matter              = 0.3\n",
      "yt : [INFO     ] 2019-12-30 09:03:59,424 Parameters: hubble_constant           = 0.7\n"
     ]
    }
   ],
   "source": [
    "import yt\n",
    "import numpy as np\n",
    "import matplotlib as plt\n",
    "ds_ART = yt.load('~/Athens_School_2022/sizmbhloz-clref04SNth-rs9_a0.9011/sizmbhloz-clref04SNth-rs9_a0.9011.art')\n",
    "ds_RAMSES = yt.load('~/Athens_School_2022/output_00080/info_00080.txt')"
   ]
  },
  {
   "cell_type": "markdown",
   "metadata": {},
   "source": [
    "You can make extra \"yt\" tests by following the yt manpage and cookbook:\n",
    "\n",
    "https://yt-project.org/doc/quickstart/data_inspection.html\n",
    "\n",
    "https://yt-project.org/doc/cookbook/index.html"
   ]
  },
  {
   "cell_type": "markdown",
   "metadata": {},
   "source": [
    "Now we will test the \"pynbody\" installation:"
   ]
  },
  {
   "cell_type": "code",
   "execution_count": null,
   "metadata": {},
   "outputs": [],
   "source": [
    "import pynbody\n",
    "import pynbody.plot.sph as sph\n",
    "from pynbody.analysis import profile\n",
    "\n",
    "import numpy as np\n",
    "from scipy.stats import gaussian_kde\n",
    "import os.path\n",
    "\n",
    "%matplotlib notebook\n",
    "import matplotlib.pylab as plt\n",
    "import matplotlib.gridspec as gridspec\n",
    "import matplotlib.colors as colors\n",
    "\n",
    "s = pynbody.load('./testdata/g15784.lr.01024.gz')"
   ]
  },
  {
   "cell_type": "markdown",
   "metadata": {},
   "source": [
    "You can make extra \"pynbody\" tests by following the pynbody manpage: http://pynbody.github.io/pynbody/tutorials/snapshot_manipulation.html#snapshot-manipulation"
   ]
  },
  {
   "cell_type": "code",
   "execution_count": null,
   "metadata": {},
   "outputs": [],
   "source": []
  }
 ],
 "metadata": {
  "kernelspec": {
   "display_name": "Python 3 (ipykernel)",
   "language": "python",
   "name": "python3"
  },
  "language_info": {
   "codemirror_mode": {
    "name": "ipython",
    "version": 3
   },
   "file_extension": ".py",
   "mimetype": "text/x-python",
   "name": "python",
   "nbconvert_exporter": "python",
   "pygments_lexer": "ipython3",
   "version": "3.8.2"
  }
 },
 "nbformat": 4,
 "nbformat_minor": 2
}
